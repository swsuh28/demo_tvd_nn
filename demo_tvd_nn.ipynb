{
 "cells": [
  {
   "cell_type": "markdown",
   "id": "d77a7d6f",
   "metadata": {},
   "source": [
    "[![Open In Colab](https://colab.research.google.com/assets/colab-badge.svg)](https://colab.research.google.com/github/swsuh28/paper_tvd_nn/blob/main/2_first_revision_JCP/code/demo-mod.ipynb)"
   ]
  },
  {
   "cell_type": "markdown",
   "id": "fa6a8e79",
   "metadata": {},
   "source": [
    "## Overview\n",
    "\n",
    "This notebook demonstrates numerical experiments from *A TVD neural network closure and application to turbulent combustion* by S. W. Suh, J. F. MacArt, L. N. Olson, and J. B. Freund."
   ]
  },
  {
   "cell_type": "markdown",
   "id": "de927566",
   "metadata": {},
   "source": [
    "## Requirements\n",
    "\n",
    "- torch\n",
    "- numpy\n",
    "- matplotlib\n",
    "- scipy\n",
    "- tqdm"
   ]
  },
  {
   "cell_type": "code",
   "execution_count": 16,
   "id": "0a69849a",
   "metadata": {},
   "outputs": [],
   "source": [
    "import torch\n",
    "import torch.nn as nn\n",
    "import torch.optim as optim\n",
    "import numpy as np\n",
    "from scipy.optimize import fsolve\n",
    "\n",
    "from tqdm import tqdm\n",
    "import matplotlib.pyplot as plt\n",
    "\n",
    "torch.set_default_dtype(torch.float64) # use double precision"
   ]
  },
  {
   "cell_type": "markdown",
   "id": "6006782d",
   "metadata": {},
   "source": [
    "## Baseline NN architecture\n",
    "\n",
    "Defines a baseline NN model $f_{\\mathcal N} \\in \\mathcal{N}$ described in (2.5)."
   ]
  },
  {
   "cell_type": "code",
   "execution_count": 17,
   "id": "199b2b9f",
   "metadata": {},
   "outputs": [],
   "source": [
    "class baseNN(nn.Module):\n",
    "    def __init__(self, Ni, Nh, No):\n",
    "        \"\"\"Baseline NN architecture.\n",
    "        \n",
    "        Parameters\n",
    "        ----------\n",
    "        Ni : int\n",
    "            Number of units in input layer.\n",
    "        Nh : int\n",
    "            Number of units per hidden layer.\n",
    "        No : int\n",
    "            Number of units in output layer.\n",
    "        \"\"\"\n",
    "        super(baseNN, self).__init__()\n",
    "        \n",
    "        self.fc0 = nn.Linear(Ni, Nh)\n",
    "        self.fc1 = nn.Linear(Nh, Nh)\n",
    "        self.fc2 = nn.Linear(Ni, Nh)\n",
    "        self.fc3 = nn.Linear(Nh, Nh)\n",
    "        self.fc4 = nn.Linear(Ni, Nh)\n",
    "        self.fc5 = nn.Linear(Nh, No)\n",
    "        \n",
    "        self.layers = [\n",
    "            self.fc0,\n",
    "            self.fc1,\n",
    "            self.fc2,\n",
    "            self.fc3,\n",
    "            self.fc4,\n",
    "            self.fc5\n",
    "        ]\n",
    "        \n",
    "        # Initialize weights and biases\n",
    "        for l in self.layers:\n",
    "            nn.init.xavier_uniform_(l.weight.data)\n",
    "            nn.init.zeros_(l.bias.data)\n",
    "        nn.init.zeros_(self.layers[-1].weight.data)\n",
    "        \n",
    "        # Activation function\n",
    "        self.act = lambda x: torch.tanh(x)\n",
    "        \n",
    "    def forward(self, x):\n",
    "        \"\"\"Forward propagation.\n",
    "\n",
    "        Parameters\n",
    "        ----------\n",
    "        x : Tensor\n",
    "            Model input.\n",
    "            \n",
    "        Returns\n",
    "        -------\n",
    "        y : Tensor\n",
    "            Model output.\n",
    "        \"\"\"\n",
    "        H1 = self.act(self.fc0(x))\n",
    "        H2 = self.act(self.fc1(H1))\n",
    "        G1 = self.act(self.fc2(x))\n",
    "        H3 = G1*H2\n",
    "        H4 = self.act(self.fc3(H3))\n",
    "        G2 = self.act(self.fc4(x))\n",
    "        H5 = G2*H4\n",
    "        y = self.fc5(H5) # output\n",
    "        return y"
   ]
  },
  {
   "cell_type": "markdown",
   "id": "7a90ee2b",
   "metadata": {},
   "source": [
    "## Unconstrained NN closure model\n",
    "\n",
    "Define an unconstrained model described in (2.4)."
   ]
  },
  {
   "cell_type": "code",
   "execution_count": 40,
   "id": "b92334b5",
   "metadata": {},
   "outputs": [],
   "source": [
    "class nnSolverUnconstrained:\n",
    "    def __init__(self, dim, dt, dx, bc, q0, q_tru, Nt):\n",
    "        \"\"\"1D PDE solver with unconstrained NN closure.\n",
    "        \n",
    "        Parameters\n",
    "        ----------\n",
    "        dim : tuple\n",
    "            Dimension of a baseNN model.\n",
    "        dt : float\n",
    "            Time step size.\n",
    "        dx : float\n",
    "            Grid spacing.\n",
    "        bc : bool\n",
    "            Switch for boundary conditions.\n",
    "            True if using 1st-order accurate Neumann bc.\n",
    "            False if using periodic bc.\n",
    "        q0 : Tensor\n",
    "            Initial condition.\n",
    "        q_tru : Tensor\n",
    "            True solution.\n",
    "        Nt : int\n",
    "            Number of time steps.\n",
    "        \"\"\"\n",
    "        Ni, Nh, No = dim # unzip NN dimension\n",
    "        self.dt = dt\n",
    "        self.dx = dx\n",
    "        self.bc = bc\n",
    "        self.q0 = q0\n",
    "        self.q_tru = q_tru\n",
    "        self.Nt = Nt\n",
    "        \n",
    "        self.f = baseNN(Ni, Nh, No) # NN flux\n",
    "        self.models = nn.ModuleList([self.f])\n",
    "        self.optimizer = optim.RMSprop(\n",
    "            self.models.parameters(),\n",
    "            lr=1e-3\n",
    "        ) # NN optimizer\n",
    "    \n",
    "    def prolongate(self, q):\n",
    "        \"\"\"Prolongate solution for Neumann bc.\n",
    "        \n",
    "        Parameters\n",
    "        ----------\n",
    "        q : Tensor\n",
    "            State to prolongate.\n",
    "        \n",
    "        Returns\n",
    "        -------\n",
    "        qb : Tensor\n",
    "            Prolongated state.\n",
    "        \"\"\"\n",
    "        if self.bc:\n",
    "            # Prolongate solution to ghost cells\n",
    "            qb = torch.zeros(q.shape[0]+4, q.shape[1])\n",
    "            qb[:2,:] = q[0,:].clone()\n",
    "            qb[-2:,:] = q[-1,:].clone()\n",
    "            qb[2:-2,:] = q.clone()\n",
    "        else:\n",
    "            qb = q\n",
    "        return qb\n",
    "    \n",
    "    def restrict(self, rhs):\n",
    "        \"\"\"Restrict RHS for Neumann bc.\n",
    "        \n",
    "        Parameters\n",
    "        ----------\n",
    "        rhs : Tensor\n",
    "            Possibly prolongated RHS values.\n",
    "        \n",
    "        Returns\n",
    "        -------\n",
    "        rhs_i : Tensor\n",
    "            RHS values restricted to internal points.\n",
    "        \"\"\"\n",
    "        if self.bc:\n",
    "            # Restrict solution to interior points\n",
    "            rhs_i = rhs[2:-2,:]\n",
    "        else:\n",
    "            rhs_i = rhs\n",
    "        return rhs_i\n",
    "    \n",
    "    def rhs(self, q):\n",
    "        \"\"\"Return divergence of unconstrained NN flux.\n",
    "        \n",
    "        Parameters\n",
    "        ----------\n",
    "        q : Tensor\n",
    "            State at internal points.\n",
    "        \n",
    "        Returns\n",
    "        -------\n",
    "        rhs_i : Tensor\n",
    "            RHS values at internal points.\n",
    "        \"\"\"\n",
    "        qb = self.prolongate(q) # prolongated q_i\n",
    "        qp = torch.roll(qb, -1, 0) # q_{i+1}\n",
    "        q_in = torch.cat((qp, qb), dim=1) # input stencil\n",
    "        f = self.f(q_in) # flux at x_{i+1/2}\n",
    "        rhs = -(f-torch.roll(f,1,0))/self.dx # take a finite differnce\n",
    "        rhs_i = self.restrict(rhs) # restricted RHS at x_i\n",
    "        return rhs_i\n",
    "    \n",
    "    def solve(self):\n",
    "        \"\"\"Integrate a NN-embedded PDE (2.3) for Nt steps.\n",
    "        \n",
    "        Returns\n",
    "        -------\n",
    "        q : Tensor\n",
    "            Solution.\n",
    "        \"\"\"\n",
    "        q = self.q0.clone()\n",
    "        q.requires_grad = True\n",
    "        for i in range(self.Nt):\n",
    "            # Time-integration with explicit Euler\n",
    "            q = q + self.dt*self.rhs(q)\n",
    "        return q\n",
    "    \n",
    "    def rescale(self):\n",
    "        \"\"\"Placeholder for rescaling: to be used in constrained NN.\"\"\"\n",
    "        pass\n",
    "    \n",
    "    def step(self):\n",
    "        \"\"\"Take a gradient descent (GD) step.\n",
    "        \n",
    "        Returns\n",
    "        -------\n",
    "        loss : Tensor\n",
    "            Loss after the GD step (detached).\n",
    "        \"\"\"\n",
    "        q_ml = self.solve() # model-predicted solution\n",
    "        loss = torch.sum((q_ml-self.q_tru)**2)*self.dx # pointwise mismatch (2.8)\n",
    "        loss.backward() # backpropagate\n",
    "        self.optimizer.step() # take a GD step\n",
    "        self.rescale() # rescale (nothing happens in unconstrained NN)\n",
    "        return loss.detach()"
   ]
  },
  {
   "cell_type": "markdown",
   "id": "eabb844d",
   "metadata": {},
   "source": [
    "## Constrained NN closure model\n",
    "\n",
    "Next, define a TVD NN closure (2.11) and (2.19)."
   ]
  },
  {
   "cell_type": "code",
   "execution_count": 41,
   "id": "0dbfc682",
   "metadata": {},
   "outputs": [],
   "source": [
    "class nnSolverConstrained(nnSolverUnconstrained):\n",
    "    def __init__(self, *args):\n",
    "        \"\"\"1D PDE solver with constrained NN closure.\"\"\"\n",
    "        super(nnSolverConstrained, self).__init__(*args)\n",
    "        self.amax = 0 # maximum wave speed\n",
    "        \n",
    "    def get_f_a(self, q):\n",
    "        \"\"\"Evaluate the NN flux f and an approximate wave speed a (2.22).\n",
    "        \n",
    "        Parameters\n",
    "        ----------\n",
    "        q : Tensor\n",
    "            State.\n",
    "        \n",
    "        Returns\n",
    "        -------\n",
    "        f, a : (Tensor, Tensor)\n",
    "            NN flux and wave speed at grid points coinciding with q.\n",
    "        \"\"\"\n",
    "        f = self.f(q) # forward propagate\n",
    "        fsum = torch.sum(torch.abs(f))\n",
    "        fsum.backward(retain_graph=True, inputs=q)\n",
    "        a = torch.abs(q.grad.data)\n",
    "        a, _ = torch.max(a, dim=1, keepdim=True) # 1-norm of flux Jacobian\n",
    "        return f, a\n",
    "    \n",
    "    def minmod(self, a, b):\n",
    "        \"\"\"Minmod function.\n",
    "        \n",
    "        minmod(a, b) = a  if  ab >= 0 & |a| <= |b|\n",
    "                       b  if  ab >= 0 & |a| >  |b|\n",
    "                       0  if  ab < 0\n",
    "        Parameters\n",
    "        ----------\n",
    "        a : Tensor\n",
    "            First state.\n",
    "        b : Tensor\n",
    "            Second state.\n",
    "        \n",
    "        Returns\n",
    "        -------\n",
    "        out : Tensor\n",
    "            Evaluated minmod function at grid points.\n",
    "        \"\"\"\n",
    "        out = 0.5*(torch.sign(a)+torch.sign(b))*\\\n",
    "                torch.minimum(torch.abs(a),torch.abs(b))\n",
    "        return out\n",
    "    \n",
    "    def rhs(self, q):\n",
    "        \"\"\"Overrides unconstrained NN RHS.\"\"\"\n",
    "        # Reconstruct\n",
    "        qb = self.prolongate(q)\n",
    "        qp = torch.roll(qb, -1, 0)\n",
    "        qm = torch.roll(qb, +1, 0)\n",
    "        s = self.minmod(qp-qb, qb-qm) # limited slope\n",
    "        qr = qp - 0.5*torch.roll(s, -1, 0) # q_{i+1/2}^+\n",
    "        ql = qb + 0.5*s # q_{i+1/2}^-\n",
    "        \n",
    "        # Compute flux and wave speed\n",
    "        fr, ar = self.get_f_a(qr)\n",
    "        fl, al = self.get_f_a(ql)\n",
    "        a = torch.maximum(ar, al) # a_{i+1/2}\n",
    "        self.amax = max(self.amax, torch.max(a)) # update maximum wave speed\n",
    "        fph = 0.5*(fr+fl-a*(qr-ql)) # f_{i+1/2}\n",
    "        fmh = torch.roll(fph, 1, 0) # f_{i-1/2}\n",
    "        rhs = -(fph-fmh)/self.dx # take a finite difference\n",
    "        rhs_i = self.restrict(rhs) # restrict RHS\n",
    "        return rhs_i\n",
    "    \n",
    "    def rescale(self):\n",
    "        \"\"\"Rescaling based on Algorithm 1.\"\"\"\n",
    "        for i in range(100): # max no. of sub-iteration is 100\n",
    "            cfl = self.amax*self.dt/self.dx # max CFL during prediction\n",
    "            cfl_max = 0.5 # max allowable CFL number for central schemes\n",
    "            if cfl > cfl_max:\n",
    "                with torch.no_grad():\n",
    "                    self.f.layers[-1].weight.data *= cfl_max/cfl\n",
    "                self.amax = 0\n",
    "                _ = self.solve() # Solve PDE again\n",
    "            else:\n",
    "                break"
   ]
  },
  {
   "cell_type": "markdown",
   "id": "18dfbaca",
   "metadata": {},
   "source": [
    "## Scenario #1: 1D advection\n",
    "\n",
    "We first demonstrate our method for the 1D advection problem in Section 3.1."
   ]
  },
  {
   "cell_type": "code",
   "execution_count": 20,
   "id": "b9ea5e3d",
   "metadata": {},
   "outputs": [],
   "source": [
    "class advection:\n",
    "    def __init__(self):\n",
    "        \"\"\"Baseline config class.\"\"\"\n",
    "        # Spatial discretization\n",
    "        self.Lx = 1 # domain length\n",
    "        self.Nx = 100 # number of grid points\n",
    "        self.dx = self.Lx/self.Nx # grid spacing\n",
    "        self.x = torch.arange(self.Nx)*self.dx # spatial grid\n",
    "        \n",
    "        # Time discretization\n",
    "        self.dt = 0.25*self.dx # time step size\n",
    "        self.tf = 0.2 # final simulation time\n",
    "        self.Nt = int(self.tf/self.dt) # number of time steps\n",
    "        \n",
    "        # Boundary conditions\n",
    "        self.bc = False # periodic bc\n",
    "        \n",
    "        # Initial condition and exact solution\n",
    "        self.q0, self.q_tru = self.getExactSol()\n",
    "        \n",
    "        self.varnames = [r'$q$'] # variable names for plots\n",
    "        \n",
    "        self.Ntrain = 1000 # number of training iterations\n",
    "        self.Nh = 10 # number of units per hidden layer\n",
    "        \n",
    "        self.solver_u = nnSolverUnconstrained(\n",
    "            (2, self.Nh, 1),\n",
    "            self.dt,\n",
    "            self.dx,\n",
    "            self.bc,\n",
    "            self.q0,\n",
    "            self.q_tru,\n",
    "            self.Nt\n",
    "        )\n",
    "        self.solver_c = nnSolverConstrained(\n",
    "            (1, self.Nh, 1),\n",
    "            self.dt,\n",
    "            self.dx,\n",
    "            self.bc,\n",
    "            self.q0,\n",
    "            self.q_tru,\n",
    "            self.Nt\n",
    "        )\n",
    "        self.solvers = [self.solver_u, self.solver_c] # iterator for nnSolvers\n",
    "    \n",
    "    def getExactSol(self):\n",
    "        \"\"\"Get exact solution of 1D advection equation.\n",
    "        \n",
    "        Returns\n",
    "        -------\n",
    "        q0, q_tru : (Tensor, Tensor)\n",
    "            Initial condition (q0) and exact solution at self.tf (q_tru).\n",
    "        \"\"\"\n",
    "        q0 = torch.where(\n",
    "            self.x>0.5,\n",
    "            torch.ones_like(self.x),\n",
    "            torch.zeros_like(self.x)\n",
    "        )\n",
    "        q0 = 0.5*(q0+torch.roll(q0,1,0))\n",
    "        q_tru = torch.roll(q0, int(self.Nx*self.tf))\n",
    "        return q0.view(-1,1), q_tru.view(-1,1) # reshape\n",
    "        \n",
    "    def train(self, solver):\n",
    "        \"\"\"Train a NN model.\n",
    "        \n",
    "        Parameters\n",
    "        ----------\n",
    "        solver\n",
    "            Solver with a NN model to train.\n",
    "        \"\"\"\n",
    "        for i in tqdm(range(self.Ntrain)):\n",
    "            loss = solver.step()\n",
    "            if i==0:\n",
    "                loss_i = loss.detach().clone()\n",
    "            elif i==self.Ntrain-1:\n",
    "                loss_f = loss.detach().clone()\n",
    "                print('Initial loss:', loss_i.item())\n",
    "                print('Final loss:', loss_f.item())\n",
    "    \n",
    "    def solve(self, solver):\n",
    "        \"\"\"Solve a NN-embedded PDE.\n",
    "        \n",
    "        Parameters\n",
    "        ----------\n",
    "        solver\n",
    "            Solver with a NN model to train.\n",
    "                 \n",
    "        Returns\n",
    "        -------\n",
    "        sol : Tensor\n",
    "            Solution.\n",
    "        \"\"\"\n",
    "        sol = solver.solve()\n",
    "        return sol"
   ]
  },
  {
   "cell_type": "markdown",
   "id": "7bd0c18b-84c9-4cdf-9140-8b6ebeb44a2f",
   "metadata": {},
   "source": [
    "#### Train the model"
   ]
  },
  {
   "cell_type": "code",
   "execution_count": 21,
   "id": "8ce4ae9b-da74-4fe5-85cb-11767cc85bc5",
   "metadata": {},
   "outputs": [
    {
     "name": "stderr",
     "output_type": "stream",
     "text": [
      "100%|██████████| 1000/1000 [00:34<00:00, 28.97it/s]\n"
     ]
    },
    {
     "name": "stdout",
     "output_type": "stream",
     "text": [
      "Initial loss: 0.39\n",
      "Final loss: 0.0021238261425667927\n"
     ]
    },
    {
     "name": "stderr",
     "output_type": "stream",
     "text": [
      "100%|██████████| 1000/1000 [02:04<00:00,  8.03it/s]"
     ]
    },
    {
     "name": "stdout",
     "output_type": "stream",
     "text": [
      "Initial loss: 0.39\n",
      "Final loss: 0.002834006870312143\n"
     ]
    },
    {
     "name": "stderr",
     "output_type": "stream",
     "text": [
      "\n"
     ]
    }
   ],
   "source": [
    "adv = advection()\n",
    "adv.train(adv.solver_u)  # unconstrained solver\n",
    "adv.train(adv.solver_c)  # constrained solver"
   ]
  },
  {
   "cell_type": "markdown",
   "id": "4cb380ba-ad9d-4bf7-b058-ce729116f099",
   "metadata": {},
   "source": [
    "#### Apply the model"
   ]
  },
  {
   "cell_type": "code",
   "execution_count": 22,
   "id": "91e0baef-c19d-449b-a4a4-9a589b3ddefe",
   "metadata": {},
   "outputs": [],
   "source": [
    "sol_u = adv.solver_u.solve().detach()  # solve with the unconstrained model\n",
    "sol_c = adv.solver_c.solve().detach()  # solve with the constrained model"
   ]
  },
  {
   "cell_type": "code",
   "execution_count": 23,
   "id": "43c943db-a551-43ff-89cb-78ad4831a71e",
   "metadata": {},
   "outputs": [
    {
     "data": {
      "text/plain": [
       "<matplotlib.legend.Legend at 0x7fe040fbef40>"
      ]
     },
     "execution_count": 23,
     "metadata": {},
     "output_type": "execute_result"
    },
    {
     "data": {
      "image/png": "[encoded data removed]",
      "text/plain": [
       "<Figure size 432x288 with 1 Axes>"
      ]
     },
     "metadata": {
      "needs_background": "light"
     },
     "output_type": "display_data"
    }
   ],
   "source": [
    "fig, ax = plt.subplots()\n",
    "ax.plot(adv.x, adv.q0, label='Initial')\n",
    "ax.plot(adv.x, adv.q_tru, label='Exact')\n",
    "ax.plot(adv.x, sol_u, label='ML prediction (unconstrained)')\n",
    "ax.plot(adv.x, sol_c, label='ML prediction (constrained)')\n",
    "ax.set_xlabel(r'$x$')\n",
    "ax.set_ylabel(adv.varnames[0])\n",
    "plt.legend()"
   ]
  },
  {
   "cell_type": "markdown",
   "id": "a925c409",
   "metadata": {},
   "source": [
    "## Scenario #2: 1D Burgers\n",
    "\n",
    "Demo for 1D Burgers equation in Section 3.2."
   ]
  },
  {
   "cell_type": "code",
   "execution_count": 24,
   "id": "7b01ed2e",
   "metadata": {},
   "outputs": [],
   "source": [
    "class burgers(advection):\n",
    "    \"\"\"Config for Burgers equation.\"\"\"\n",
    "    def getExactSol(self):\n",
    "        \"\"\"Get exact solution of 1D Burgers equation.\n",
    "        \n",
    "        Returns\n",
    "        -------\n",
    "        q0, q_tru : (Tensor, Tensor)\n",
    "            Initial condition (q0) and exact solution at self.tf (q_tru).\n",
    "        \"\"\"\n",
    "        w = 0.25\n",
    "        q0 = torch.where(\n",
    "            abs(self.x-0.5)<0.5*w,\n",
    "            torch.ones_like(self.x),\n",
    "            torch.zeros_like(self.x)\n",
    "        )\n",
    "        q_tru = torch.where(\n",
    "            self.x<0.5*self.Lx-0.5*w,\n",
    "            torch.zeros_like(self.x),\n",
    "            torch.where(\n",
    "                self.x<0.5*self.Lx+0.5*w,\n",
    "                (self.x-0.5*self.Lx+0.5*w)/w,\n",
    "                torch.where(self.x<0.5*self.Lx+w,\n",
    "                    torch.ones_like(self.x),\n",
    "                    torch.zeros_like(self.x)\n",
    "                )\n",
    "            )\n",
    "        )\n",
    "        return q0.view(-1,1), q_tru.view(-1,1)"
   ]
  },
  {
   "cell_type": "markdown",
   "id": "77973e65-e3b6-4404-87bf-e48d3c317113",
   "metadata": {},
   "source": [
    "#### Train the model"
   ]
  },
  {
   "cell_type": "code",
   "execution_count": 25,
   "id": "f76eff72-6d64-4824-b7b8-8c45a1425362",
   "metadata": {},
   "outputs": [
    {
     "name": "stderr",
     "output_type": "stream",
     "text": [
      "100%|██████████| 1000/1000 [00:32<00:00, 31.21it/s]\n"
     ]
    },
    {
     "name": "stdout",
     "output_type": "stream",
     "text": [
      "Initial loss: 0.20330000000000004\n",
      "Final loss: 0.001107694302453148\n"
     ]
    },
    {
     "name": "stderr",
     "output_type": "stream",
     "text": [
      "100%|██████████| 1000/1000 [02:02<00:00,  8.18it/s]"
     ]
    },
    {
     "name": "stdout",
     "output_type": "stream",
     "text": [
      "Initial loss: 0.20330000000000004\n",
      "Final loss: 0.0024173717126929747\n"
     ]
    },
    {
     "name": "stderr",
     "output_type": "stream",
     "text": [
      "\n"
     ]
    }
   ],
   "source": [
    "burg = burgers()\n",
    "burg.train(burg.solver_u)  # unconstrained solver\n",
    "burg.train(burg.solver_c)  # constrained solver"
   ]
  },
  {
   "cell_type": "markdown",
   "id": "5b599710-7a06-412c-b82f-d9e331ae5fbe",
   "metadata": {},
   "source": [
    "#### Apply the model"
   ]
  },
  {
   "cell_type": "code",
   "execution_count": 26,
   "id": "0f9b5cd1-4929-4a31-8fc7-2dd59287813c",
   "metadata": {},
   "outputs": [],
   "source": [
    "sol_u = burg.solver_u.solve().detach()  # solve with the unconstrained model\n",
    "sol_c = burg.solver_c.solve().detach()  # solve with the constrained model"
   ]
  },
  {
   "cell_type": "code",
   "execution_count": 27,
   "id": "9384390f-fbb5-44c8-af60-50291259d835",
   "metadata": {},
   "outputs": [
    {
     "data": {
      "text/plain": [
       "<matplotlib.legend.Legend at 0x7fe0416b9760>"
      ]
     },
     "execution_count": 27,
     "metadata": {},
     "output_type": "execute_result"
    },
    {
     "data": {
      "image/png": "[encoded data removed]",
      "text/plain": [
       "<Figure size 432x288 with 1 Axes>"
      ]
     },
     "metadata": {
      "needs_background": "light"
     },
     "output_type": "display_data"
    }
   ],
   "source": [
    "fig, ax = plt.subplots()\n",
    "ax.plot(burg.x, burg.q0, label='Initial')\n",
    "ax.plot(burg.x, burg.q_tru, label='Exact')\n",
    "ax.plot(burg.x, sol_u, label='ML prediction (unconstrained)')\n",
    "ax.plot(burg.x, sol_c, label='ML prediction (constrained)')\n",
    "ax.set_xlabel(r'$x$')\n",
    "ax.set_ylabel(burg.varnames[0])\n",
    "plt.legend()"
   ]
  },
  {
   "cell_type": "markdown",
   "id": "6422bd26",
   "metadata": {},
   "source": [
    "## Scenario #3: 1D Euler equations\n",
    "\n",
    "Demo for 1D Euler equations in Section 3.3"
   ]
  },
  {
   "cell_type": "markdown",
   "id": "a2ee88e9-52f8-49a7-bafe-b4087dc74de2",
   "metadata": {},
   "source": [
    "#### Sod Problem"
   ]
  },
  {
   "cell_type": "code",
   "execution_count": 28,
   "id": "9b88665f-3a93-4c3b-9ee9-4657cda4ceae",
   "metadata": {
    "jupyter": {
     "source_hidden": true
    }
   },
   "outputs": [],
   "source": [
    "gamma = 1.4\n",
    "stateL = (1.0  ,1.0,0.0)\n",
    "stateR = (0.125,0.1,0.0)\n",
    "\n",
    "def sod_init(x):\n",
    "    \"\"\"Initial state.\n",
    "\n",
    "    Parameters\n",
    "    ----------\n",
    "    x : Tensor\n",
    "        Grid points in 1D.\n",
    "\n",
    "    Returns\n",
    "    -------\n",
    "    qp : Tensor\n",
    "        Primitive variables (density, velocity, pressure).\n",
    "    qc : Tensor\n",
    "        Conserved variables (density, momentum, energy).\n",
    "    \"\"\"\n",
    "    Nx = len(x)\n",
    "    qp = torch.zeros((Nx, 3))\n",
    "    qc = torch.zeros((Nx, 3))\n",
    "    rhoL,pL,uL = stateL\n",
    "    rhoR,pR,uR = stateR\n",
    "    ones = torch.ones(Nx)\n",
    "    rho = torch.where(x<0.5,ones*rhoL,ones*rhoR)\n",
    "    u   = torch.where(x<0.5,ones*uL  ,ones*uR  )\n",
    "    p   = torch.where(x<0.5,ones*pL  ,ones*pR  )\n",
    "    qp = torch.stack((rho,u,p),axis=1)\n",
    "    qc = p2c(qp)\n",
    "    return qp,qc\n",
    "\n",
    "def p2c(qp):\n",
    "    \"\"\"Transform primitive to conserved variables.\n",
    "    \n",
    "    Parameters\n",
    "    ----------\n",
    "    qp : Tensor\n",
    "        Primitive variables.\n",
    "    \n",
    "    Returns\n",
    "    -------\n",
    "    qc : Tensor\n",
    "        Conserved variables.\n",
    "    \"\"\"\n",
    "    rho = qp[:,0]\n",
    "    u   = qp[:,1]\n",
    "    p   = qp[:,2]\n",
    "    qc = torch.zeros_like(qp)\n",
    "    qc[:,0] = rho\n",
    "    qc[:,1] = rho*u\n",
    "    qc[:,2] = p/(gamma-1)+0.5*rho*u**2\n",
    "    return qc\n",
    "\n",
    "def c2p(qc):\n",
    "    \"\"\"Transform conserved to primitive variables.\n",
    "    \n",
    "    Parameters\n",
    "    ----------\n",
    "    qc : Tensor\n",
    "        Conserved variables.\n",
    "    \n",
    "    Returns\n",
    "    -------\n",
    "    qp : Tensor\n",
    "        Primitive variables.\n",
    "    \"\"\"\n",
    "    rho = qc[:,0]\n",
    "    m   = qc[:,1]\n",
    "    E   = qc[:,2]\n",
    "    qp = torch.zeros_like(qc)\n",
    "    qp[:,0] = rho\n",
    "    qp[:,1] = m/rho\n",
    "    qp[:,2] = (gamma-1)*(E-0.5*m**2/rho)\n",
    "    return qp\n",
    "\n",
    "def sod_solve(x,t):\n",
    "    \"\"\"Solve ths Sod shock tube problem at (x,t).\n",
    "    \n",
    "    Parameters\n",
    "    ----------\n",
    "    x : Tensor\n",
    "        Grid points in 1D.\n",
    "    t : float\n",
    "        Time.\n",
    "    \n",
    "    Returns\n",
    "    -------\n",
    "    qc : Tensor\n",
    "        Solution in conserved variables.\n",
    "    \"\"\"\n",
    "    rhoL,pL,uL = stateL\n",
    "    rhoR,pR,uR = stateR\n",
    "\n",
    "    if t >= 0.5/np.sqrt(gamma*pL/rhoL):\n",
    "        print('Not available after the shock reaches the boundary')\n",
    "        return None\n",
    "    \n",
    "    cL = np.sqrt(gamma*pL/rhoL)\n",
    "    cR = np.sqrt(gamma*pR/rhoR)\n",
    "    \n",
    "    Gamma = (gamma-1)/(gamma+1)\n",
    "    beta = (gamma-1)/2/gamma\n",
    "    expr = lambda p: (p-pR)*np.sqrt((1-Gamma)/rhoR/(p+Gamma*pR))-\\\n",
    "                     (pL**beta-p**beta)*np.sqrt((1-Gamma**2)*pL**(1/gamma)/Gamma**2/rhoL)\n",
    "    \n",
    "    p3 = torch.from_numpy(fsolve(expr,0.5*(pL+pR)))\n",
    "    u3 = uR+(p3-pR)/torch.sqrt(rhoR/2*((gamma+1)*p3+(gamma-1)*pR))\n",
    "    rho3 = rhoL*(p3/pL)**(1/gamma)\n",
    "        \n",
    "    p4 = p3\n",
    "    rho4 = rhoR*(p4+Gamma*pR)/(pR+Gamma*p4)\n",
    "    u4 = u3\n",
    "        \n",
    "    u2 = 2/(gamma+1)*(cL+(x-0.5)/t)\n",
    "    rho2 = rhoL*(1-(gamma-1)/2*u2/cL)**(2/(gamma-1))\n",
    "    p2 = pL*(1-(gamma-1)/2*u2/cL)**(2*gamma/(gamma-1))\n",
    "        \n",
    "    x12 = 0.5-cL*t\n",
    "    c2 = cL-(gamma-1)/2*u4\n",
    "    x23 = 0.5+(u3-c2)*t\n",
    "    cshock = u4*(rho4/rhoR)/(rho4/rhoR-1)\n",
    "    x34 = 0.5+u4*t\n",
    "    x45 = 0.5+cshock*t\n",
    "        \n",
    "    rho = torch.where(x<x12,rhoL,\\\n",
    "            torch.where(x<x23,rho2,\\\n",
    "                torch.where(x<x34,rho3,\\\n",
    "                    torch.where(x<x45,rho4,rhoR))))\n",
    "        \n",
    "    u = torch.where(x<x12,uL,\\\n",
    "            torch.where(x<x23,u2,\\\n",
    "                torch.where(x<x34,u3,\\\n",
    "                    torch.where(x<x45,u4,uR))))\n",
    "        \n",
    "    p = torch.where(x<x12,pL,\\\n",
    "            torch.where(x<x23,p2,\\\n",
    "                torch.where(x<x34,p3,\\\n",
    "                    torch.where(x<x45,p4,pR))))\n",
    "        \n",
    "    qp = torch.stack((rho,u,p),axis=1)\n",
    "    qc = p2c(qp)\n",
    "    \n",
    "    return qc"
   ]
  },
  {
   "cell_type": "code",
   "execution_count": 29,
   "id": "c9fca365",
   "metadata": {
    "scrolled": true
   },
   "outputs": [],
   "source": [
    "class euler(advection):\n",
    "    \"\"\"Config for Euler equation.\n",
    "    \n",
    "    Here we use coarser discretization & less complex model for faster turnaround.\n",
    "    \"\"\"\n",
    "    def __init__(self):\n",
    "        super(euler, self).__init__()\n",
    "        self.Lx = 1\n",
    "        self.Nx = 200\n",
    "        self.dx = self.Lx/self.Nx\n",
    "        self.x = torch.arange(self.Nx)*self.dx\n",
    "\n",
    "        self.dt = 0.1*self.dx\n",
    "        self.tf = 0.05\n",
    "        self.Nt = int(self.tf/self.dt)\n",
    "        \n",
    "        self.bc = True\n",
    "        \n",
    "        self.q0, self.q_tru = self.getExactSol()\n",
    "        \n",
    "        self.varnames = [\n",
    "            r'$\\rho$',\n",
    "            r'$\\rho u$',\n",
    "            r'$E$'\n",
    "        ]\n",
    "        \n",
    "        self.Ntrain = 200\n",
    "        self.Nh = 20\n",
    "        self.solver_u = nnSolverUnconstrained(\n",
    "            (6, self.Nh, 3),\n",
    "            self.dt,\n",
    "            self.dx,\n",
    "            self.bc,\n",
    "            self.q0,\n",
    "            self.q_tru,\n",
    "            self.Nt\n",
    "        )\n",
    "        self.solver_c = nnSolverConstrained(\n",
    "            (3, self.Nh, 3),\n",
    "            self.dt,\n",
    "            self.dx,\n",
    "            self.bc,\n",
    "            self.q0,\n",
    "            self.q_tru,\n",
    "            self.Nt\n",
    "        )\n",
    "        self.solvers = [self.solver_u, self.solver_c]\n",
    "    \n",
    "    def getExactSol(self):\n",
    "        \"\"\"Get exact solution of 1D Euler equations for Sod configuration.\n",
    "        \n",
    "        Returns\n",
    "        -------\n",
    "        q0, q_tru : (Tensor, Tensor)\n",
    "            Initial condition (q0) and exact solution at self.tf (q_tru).\n",
    "        \"\"\"\n",
    "        q0    = sod_solve(self.x, 0.1)\n",
    "        q_tru = sod_solve(self.x, 0.1+self.tf)\n",
    "        return q0, q_tru"
   ]
  },
  {
   "cell_type": "markdown",
   "id": "41c4039e-0732-47ac-99b4-e1bd090229c1",
   "metadata": {},
   "source": [
    "#### Train the model"
   ]
  },
  {
   "cell_type": "code",
   "execution_count": 30,
   "id": "54d73dd3-a1ae-4d89-8372-96b13c018021",
   "metadata": {},
   "outputs": [
    {
     "name": "stderr",
     "output_type": "stream",
     "text": [
      "100%|██████████| 200/200 [00:16<00:00, 12.25it/s]\n"
     ]
    },
    {
     "name": "stdout",
     "output_type": "stream",
     "text": [
      "Initial loss: 0.07627580782590154\n",
      "Final loss: 0.0012156555794757813\n"
     ]
    },
    {
     "name": "stderr",
     "output_type": "stream",
     "text": [
      "100%|██████████| 200/200 [00:48<00:00,  4.15it/s]"
     ]
    },
    {
     "name": "stdout",
     "output_type": "stream",
     "text": [
      "Initial loss: 0.07627580782590154\n",
      "Final loss: 0.003552405265589374\n"
     ]
    },
    {
     "name": "stderr",
     "output_type": "stream",
     "text": [
      "\n"
     ]
    }
   ],
   "source": [
    "ee = euler()\n",
    "ee.train(ee.solver_u)  # unconstrained solver\n",
    "ee.train(ee.solver_c)  # constrained solver"
   ]
  },
  {
   "cell_type": "markdown",
   "id": "d725a878-44f2-47d6-ba58-210bc6eaa00b",
   "metadata": {},
   "source": [
    "#### Apply the model"
   ]
  },
  {
   "cell_type": "code",
   "execution_count": 31,
   "id": "2551c3fa-d58c-4242-ab12-dc4dbabc3915",
   "metadata": {},
   "outputs": [],
   "source": [
    "sol_u = ee.solver_u.solve().detach()  # solve with the unconstrained model\n",
    "sol_c = ee.solver_c.solve().detach()  # solve with the constrained model"
   ]
  },
  {
   "cell_type": "code",
   "execution_count": 32,
   "id": "3a8007b8-82e4-4a4c-a418-e1dafcf92c65",
   "metadata": {},
   "outputs": [
    {
     "data": {
      "image/png": "[encoded data removed]",
      "text/plain": [
       "<Figure size 720x216 with 3 Axes>"
      ]
     },
     "metadata": {
      "needs_background": "light"
     },
     "output_type": "display_data"
    }
   ],
   "source": [
    "fig, ax = plt.subplots(ncols=3, figsize=(10,3))\n",
    "plt.tight_layout()\n",
    "for vid in range(3):\n",
    "    ax[vid].plot(ee.x, ee.q0[:,vid], label='Initial')\n",
    "    ax[vid].plot(ee.x, ee.q_tru[:,vid], label='Exact')\n",
    "    ax[vid].plot(ee.x, sol_u[:,vid], label='ML prediction (unconstrained)')\n",
    "    ax[vid].plot(ee.x, sol_c[:,vid], label='ML prediction (constrained)')\n",
    "    ax[vid].set_xlabel(r'$x$')\n",
    "    ax[vid].set_ylabel(burg.varnames[0])\n",
    "    ax[vid].legend(bbox_to_anchor=(0, 1.02, 1, 0.2), loc=\"lower left\",\n",
    "                mode=\"expand\", borderaxespad=0, ncol=1)"
   ]
  },
  {
   "cell_type": "markdown",
   "id": "1d4687d0",
   "metadata": {},
   "source": [
    "## Scenario #4: Advection-anti-diffusion\n",
    "\n",
    "Demo for 1D advection-anti-diffution problem in Section 3.4.\n",
    "We first define a generalized constrained NN closure model (3.9) to incorporate non-hyperbolic behaviors."
   ]
  },
  {
   "cell_type": "code",
   "execution_count": 42,
   "id": "07b41274",
   "metadata": {},
   "outputs": [],
   "source": [
    "class nnSolverConstrainedNonhyper(nnSolverConstrained):\n",
    "    \"\"\"1D PDE solver with non-hyperbolic constrained NN closure (3.9).\"\"\"\n",
    "    def __init__(self, *args, mu):\n",
    "        \"\"\"\n",
    "        Parameters\n",
    "        ----------\n",
    "        mu : float\n",
    "            Constant diffusivity for reference\n",
    "        \"\"\"\n",
    "        super(nnSolverConstrainedNonhyper, self).__init__(*args)\n",
    "        self.mu = mu # constant for scaling diffusivity\n",
    "        Ni, Nh, No = args[0]\n",
    "        self.nup = baseNN(Ni*2, Nh, No) # \\nu^+ (3.10)\n",
    "        self.num = baseNN(Ni*2, Nh, No) # \\nu^- (3.10)\n",
    "        self.models = nn.ModuleList([\n",
    "            self.f,\n",
    "            self.nup,\n",
    "            self.num\n",
    "        ]) # override NN modules\n",
    "        self.optimizer = optim.RMSprop(\n",
    "            self.models.parameters(),\n",
    "            lr=1e-3\n",
    "        )\n",
    "    \n",
    "    def varphi(self, a, b):\n",
    "        \"\"\"Flux limiter (3.11).\n",
    "        \n",
    "        Parameters\n",
    "        ----------\n",
    "        a : Tensor\n",
    "            First state.\n",
    "        b : Tensor\n",
    "            Second state.\n",
    "        \n",
    "        Returns\n",
    "        -------\n",
    "        out : Tensor\n",
    "            Evaluated flux limiter values.\n",
    "        \"\"\"\n",
    "        out = torch.where(\n",
    "            torch.logical_and(a>0, b>0),\n",
    "            torch.minimum(\n",
    "                torch.minimum(a, 1/a),\n",
    "                torch.minimum(b, 1/b)\n",
    "            ),\n",
    "            0*a\n",
    "        )\n",
    "        return out\n",
    "    \n",
    "    def rhs(self, q):\n",
    "        \"\"\"Overrides constrained NN RHS without diffusivity.\"\"\"\n",
    "        # Reconstruct\n",
    "        qb = self.prolongate(q)\n",
    "        qp = torch.roll(qb, -1, 0)\n",
    "        qm = torch.roll(qb, +1, 0)\n",
    "        s = self.minmod(qp-qb, qb-qm) # limited slope\n",
    "        qr = qp - 0.5*torch.roll(s, -1, 0)\n",
    "        ql = qb + 0.5*s\n",
    "        \n",
    "        # Compute flux and wave speed\n",
    "        fr, ar = self.get_f_a(qr)\n",
    "        fl, al = self.get_f_a(ql)\n",
    "        a = torch.maximum(ar, al) # a_{i+1/2}\n",
    "        self.amax = max(self.amax, torch.max(a))\n",
    "        \n",
    "        # NN diffusivity\n",
    "        eps = 1e-12\n",
    "        r = (qb-qm+eps)/(qp-qb+eps) # slope ratio\n",
    "        q_in = torch.cat((qp, qb), dim=1)\n",
    "        varphi = self.varphi(r, torch.roll(r, -1, 0)) # flux limiter\n",
    "        nu = torch.abs(self.nup(q_in)) + varphi*self.num(q_in) # NN diffusivity\n",
    "        \n",
    "        fph = 0.5*(fr+fl-a*(qr-ql)) - self.mu*nu*(qp-qb)/self.dx\n",
    "        fmh = torch.roll(fph, 1, 0)\n",
    "        rhs = -(fph-fmh)/self.dx\n",
    "        rhs_i = self.restrict(rhs) # restrict RHS\n",
    "        return rhs_i"
   ]
  },
  {
   "cell_type": "code",
   "execution_count": 43,
   "id": "83a8033c",
   "metadata": {},
   "outputs": [],
   "source": [
    "class antidiffusion(advection):\n",
    "    \"\"\"Config for advection-antidiffusion equation.\"\"\"\n",
    "    def __init__(self):\n",
    "        self.mu = 0.001\n",
    "        super(antidiffusion, self).__init__()\n",
    "        self.q0, self.q_tru = self.getExactSol()\n",
    "        self.solver_n = nnSolverConstrainedNonhyper(\n",
    "            (1, self.Nh, 1),\n",
    "            self.dt,\n",
    "            self.dx,\n",
    "            self.bc,\n",
    "            self.q0,\n",
    "            self.q_tru,\n",
    "            self.Nt,\n",
    "            mu=self.mu) # add a non-hyperbolic model\n",
    "        self.solvers.append(self.solver_n)\n",
    "        \n",
    "    def getExactSol(self):\n",
    "        \"\"\"Get exact solutions of 1D advection-anti-diffusion equation.\"\"\"\n",
    "        q_tru = torch.where(\n",
    "            self.x>0.5,\n",
    "            torch.ones_like(self.x),\n",
    "            torch.zeros_like(self.x)\n",
    "        )\n",
    "        q0 = q_tru.clone()\n",
    "        for i in range(self.Nt):\n",
    "            q0 += self.dt/self.dx**2*self.mu*\\\n",
    "                    (torch.roll(q0, -1)-2*q0+torch.roll(q0, +1))\n",
    "        q_tru = torch.roll(q_tru, int(self.Nx*self.tf))\n",
    "        return q0.view(-1,1), q_tru.view(-1,1)"
   ]
  },
  {
   "cell_type": "markdown",
   "id": "b5efd901-4a4b-4950-9abb-60aa0f53f3b2",
   "metadata": {},
   "source": [
    "#### Train the model"
   ]
  },
  {
   "cell_type": "code",
   "execution_count": 44,
   "id": "37cf880a",
   "metadata": {},
   "outputs": [
    {
     "name": "stderr",
     "output_type": "stream",
     "text": [
      "100%|██████████| 1000/1000 [00:35<00:00, 28.26it/s]\n"
     ]
    },
    {
     "name": "stdout",
     "output_type": "stream",
     "text": [
      "Initial loss: 0.37777547683121676\n",
      "Final loss: 0.005486147347422128\n"
     ]
    },
    {
     "name": "stderr",
     "output_type": "stream",
     "text": [
      "100%|██████████| 1000/1000 [03:50<00:00,  4.34it/s]\n"
     ]
    },
    {
     "name": "stdout",
     "output_type": "stream",
     "text": [
      "Initial loss: 0.37777547683121676\n",
      "Final loss: 0.007382209272326349\n"
     ]
    },
    {
     "name": "stderr",
     "output_type": "stream",
     "text": [
      "100%|██████████| 1000/1000 [03:38<00:00,  4.59it/s]"
     ]
    },
    {
     "name": "stdout",
     "output_type": "stream",
     "text": [
      "Initial loss: 0.37777547683121676\n",
      "Final loss: 0.004073146827187745\n"
     ]
    },
    {
     "name": "stderr",
     "output_type": "stream",
     "text": [
      "\n"
     ]
    }
   ],
   "source": [
    "ad = antidiffusion()\n",
    "ad.train(ad.solver_u)  # unconstrained solver\n",
    "ad.train(ad.solver_c)  # constrained solver\n",
    "ad.train(ad.solver_n)  # constrained non-hyperbolic solver"
   ]
  },
  {
   "cell_type": "markdown",
   "id": "ba01f9eb-633a-4521-882d-6b4289d920dd",
   "metadata": {},
   "source": [
    "#### Apply the model"
   ]
  },
  {
   "cell_type": "code",
   "execution_count": 45,
   "id": "72d665be-7a0e-48d2-958b-c20d06571ff6",
   "metadata": {},
   "outputs": [],
   "source": [
    "sol_u = ad.solver_u.solve().detach()  # solve with the unconstrained model\n",
    "sol_c = ad.solver_c.solve().detach()  # solve with the constrained model\n",
    "sol_n = ad.solver_n.solve().detach()  # solve with the constrained non-hyperbolic model"
   ]
  },
  {
   "cell_type": "code",
   "execution_count": 46,
   "id": "bf63465b-ee56-4448-abed-a7c2506401bd",
   "metadata": {},
   "outputs": [
    {
     "data": {
      "text/plain": [
       "<matplotlib.legend.Legend at 0x7fe027087a60>"
      ]
     },
     "execution_count": 46,
     "metadata": {},
     "output_type": "execute_result"
    },
    {
     "data": {
      "image/png": "[encoded data removed]",
      "text/plain": [
       "<Figure size 432x288 with 1 Axes>"
      ]
     },
     "metadata": {
      "needs_background": "light"
     },
     "output_type": "display_data"
    }
   ],
   "source": [
    "fig, ax = plt.subplots()\n",
    "ax.plot(ad.x, ad.q0, label='Initial')\n",
    "ax.plot(ad.x, ad.q_tru, label='Exact')\n",
    "ax.plot(ad.x, sol_u, label='ML prediction (unconstrained)')\n",
    "ax.plot(ad.x, sol_c, label='ML prediction (constrained)')\n",
    "ax.plot(ad.x, sol_n, label='ML prediction (constrained non-hyperbolic)')\n",
    "ax.set_xlabel(r'$x$')\n",
    "ax.set_ylabel(ad.varnames[0])\n",
    "plt.legend()"
   ]
  }
 ],
 "metadata": {
  "kernelspec": {
   "display_name": "Python 3",
   "language": "python",
   "name": "python3"
  },
  "language_info": {
   "codemirror_mode": {
    "name": "ipython",
    "version": 3
   },
   "file_extension": ".py",
   "mimetype": "text/x-python",
   "name": "python",
   "nbconvert_exporter": "python",
   "pygments_lexer": "ipython3",
   "version": "3.8.3"
  }
 },
 "nbformat": 4,
 "nbformat_minor": 5
}
